{
 "cells": [
  {
   "cell_type": "code",
   "execution_count": 9,
   "metadata": {},
   "outputs": [],
   "source": [
    "from training import Trainer\n",
    "import matplotlib.pyplot as plt\n",
    "import networkx as nx\n",
    "import torch\n",
    "import pandas as pd\n",
    "import numpy as np\n",
    "import scipy\n",
    "from utils import graph_from_scores\n",
    "%matplotlib inline"
   ]
  },
  {
   "cell_type": "code",
   "execution_count": 2,
   "metadata": {},
   "outputs": [],
   "source": [
    "graph = scipy.io.mmread('inf-USAir97.mtx')\n",
    "graph = nx.from_scipy_sparse_array(graph)\n",
    "graph = nx.to_numpy_array(graph)\n",
    "graph[graph!=0] = 1.0\n",
    "graph_nx = nx.from_numpy_array(graph)\n",
    "graph_sparse = scipy.sparse.csr_matrix(graph)\n",
    "n_edges = graph.sum()"
   ]
  },
  {
   "cell_type": "code",
   "execution_count": 2,
   "metadata": {},
   "outputs": [],
   "source": [
    "# res = np.load(\"EBV.npz\")\n",
    "res = np.load(\"PPI.npz\")\n",
    "X = res['X']"
   ]
  },
  {
   "cell_type": "code",
   "execution_count": 98,
   "metadata": {},
   "outputs": [],
   "source": [
    "\n",
    "import rpy2.robjects as ro\n",
    "from rpy2.robjects.packages import importr\n",
    "import rpy2.robjects.numpy2ri\n",
    "\n",
    "\n",
    "r = ro.r\n",
    "r.source(\"../../Rcode/sim_ergm.R\")\n",
    "# r.source(\"../../Rcode/utils.R\")\n",
    "rpy2.robjects.numpy2ri.activate()\n",
    "\n",
    "# X = np.array(r.sim_teenager())\n",
    "# X = np.array(r.sim_lazega())\n",
    "# X = np.array(r.sim_florentine())"
   ]
  },
  {
   "cell_type": "code",
   "execution_count": null,
   "metadata": {},
   "outputs": [],
   "source": [
    "###for synthetic examples, load graph from saved generation\n",
    "\n",
    "# d=50\n",
    "# # model_name = \"E2S\";\n",
    "# # model_name = \"ET\"\n",
    "# model_name = \"ER\"\n",
    "# b1 = -2; b2=1\n",
    "# n = 200\n",
    "# res = np.load(\"../../res/ergm_sim/\"+model_name+\"_n\"+str(d)+\"beta1_\"+str(b1)+\"beta2_\"+str(b2)+\"rep\"+str(n)+\".npz\")\n",
    "# X = res['X'][0]"
   ]
  },
  {
   "cell_type": "code",
   "execution_count": 99,
   "metadata": {},
   "outputs": [
    {
     "name": "stdout",
     "output_type": "stream",
     "text": [
      "Selecting 1 largest connected components\n"
     ]
    }
   ],
   "source": [
    "from utils import largest_connected_components, graph_from_scores\n",
    "_A_obs = scipy.sparse.csc_matrix(X)\n",
    "lcc = largest_connected_components(_A_obs)\n",
    "_A_obs = _A_obs[lcc,:][:,lcc]\n",
    "_N = _A_obs.shape[0]\n",
    "graph = X\n",
    "graph_sparse = _A_obs\n",
    "n_edges = _A_obs.sum()"
   ]
  },
  {
   "cell_type": "code",
   "execution_count": 100,
   "metadata": {},
   "outputs": [],
   "source": [
    "graph = nx.from_scipy_sparse_array(_A_obs)\n",
    "graph = nx.to_numpy_array(graph)\n",
    "graph[graph!=0] = 1.0\n",
    "graph_nx = nx.from_numpy_array(graph)\n",
    "graph_sparse = scipy.sparse.csr_matrix(graph)\n",
    "n_edges = graph.sum()"
   ]
  },
  {
   "cell_type": "code",
   "execution_count": null,
   "metadata": {},
   "outputs": [],
   "source": [
    "nx.draw(graph_nx, node_size=25, alpha=0.5)"
   ]
  },
  {
   "cell_type": "code",
   "execution_count": 20,
   "metadata": {},
   "outputs": [],
   "source": [
    "trainer = Trainer(graph_sparse, len(graph), max_iterations=20000, rw_len=12, batch_size=128, H_gen=40, H_disc=30, H_inp=128, z_dim=16, lr=0.0003,\n",
    "                  n_critic=3, gp_weight=10.0, betas=(.5, .9), l2_penalty_disc=5e-5, l2_penalty_gen=1e-7, temp_start=5.0,  \n",
    "                  val_share=0.2, test_share=0.1, seed=20, set_ops=False)"
   ]
  },
  {
   "cell_type": "code",
   "execution_count": null,
   "metadata": {},
   "outputs": [],
   "source": [
    "trainer.train(create_graph_evergraph_syntheticlot_graph_every=200, num_samples_graph=50000, stopping_criterion='val')"
   ]
  },
  {
   "cell_type": "code",
   "execution_count": 15,
   "metadata": {},
   "outputs": [
    {
     "name": "stdout",
     "output_type": "stream",
     "text": [
      "1\n",
      "11\n",
      "21\n",
      "31\n",
      "41\n"
     ]
    }
   ],
   "source": [
    "trans_mat = trainer.create_transition_matrix(50000)\n",
    "graph_synthetic = []\n",
    "for i in range(200):\n",
    "    graph_sampled = graph_from_scores(trans_mat, n_edges)\n",
    "    graph_synthetic.append(graph_sampled)\n",
    "    # graph_nx_sampled = nx.from_numpy_array(graph_sampled)\n",
    "    # nx.draw(graph_nx_sampled, node_size=25, alpha=0.5)\n",
    "    # plt.show()"
   ]
  },
  {
   "cell_type": "code",
   "execution_count": 11,
   "metadata": {},
   "outputs": [],
   "source": [
    "np.savez(\"EBV_netgan.npz\",Xgen=graph_synthetic)"
   ]
  },
  {
   "cell_type": "code",
   "execution_count": 101,
   "metadata": {},
   "outputs": [],
   "source": [
    "trainer = Trainer(graph_sparse, len(graph), max_iterations=200, rw_len=12, batch_size=128, H_gen=40, H_disc=30, H_inp=128, z_dim=16, lr=0.0003,\n",
    "                  n_critic=3, gp_weight=10.0, betas=(.5, .9), l2_penalty_disc=5e-5, l2_penalty_gen=1e-7, temp_start=5.0,  \n",
    "                  val_share=0.2, test_share=0.1, seed=20, set_ops=False)"
   ]
  },
  {
   "cell_type": "code",
   "execution_count": 102,
   "metadata": {},
   "outputs": [
    {
     "name": "stdout",
     "output_type": "stream",
     "text": [
      "**** Using VAL criterion for early stopping with max patience of: 5****\n",
      "iteration: 1      critic: 5.604110      gen 0.048427\n",
      "iteration: 11      critic: 0.272170      gen 0.245563\n",
      "iteration: 21      critic: 0.017209      gen 0.273269\n",
      "iteration: 31      critic: -0.103003      gen 0.332724\n",
      "iteration: 41      critic: -0.307853      gen 0.326929\n",
      "iteration: 51      critic: -0.442410      gen 0.339887\n",
      "iteration: 61      critic: -0.593616      gen 0.306752\n",
      "iteration: 71      critic: -0.679177      gen 0.314430\n",
      "iteration: 81      critic: -0.618477      gen 0.324694\n",
      "iteration: 91      critic: -0.652235      gen 0.342570\n",
      "iteration: 101      critic: -0.699204      gen 0.447669\n",
      "iteration: 111      critic: -0.807598      gen 0.592462\n",
      "iteration: 121      critic: -0.792279      gen 0.743094\n",
      "iteration: 131      critic: -0.907340      gen 0.805305\n",
      "iteration: 141      critic: -0.956028      gen 0.930149\n",
      "iteration: 151      critic: -1.022880      gen 1.022666\n",
      "iteration: 161      critic: -1.075386      gen 0.986651\n",
      "iteration: 171      critic: -1.146741      gen 0.956328\n",
      "iteration: 181      critic: -1.158782      gen 0.994759\n",
      "iteration: 191      critic: -1.188722      gen 0.954810\n",
      "1\n",
      "11\n",
      "21\n",
      "31\n",
      "41\n",
      "roc: 0.3750   avp: 0.4762   eo: 0.3000\n",
      "Took 1.0090391318003336 minutes so far..\n"
     ]
    }
   ],
   "source": [
    "trainer.train(create_graph_every=200, num_samples_graph=50000, stopping_criterion='val')"
   ]
  },
  {
   "cell_type": "code",
   "execution_count": 103,
   "metadata": {},
   "outputs": [
    {
     "name": "stdout",
     "output_type": "stream",
     "text": [
      "1\n",
      "11\n",
      "21\n",
      "31\n",
      "41\n"
     ]
    }
   ],
   "source": [
    "trans_mat = trainer.create_transition_matrix(50000)\n",
    "graph_synthetic = []\n",
    "for i in range(50):\n",
    "    graph_sampled = graph_from_scores(trans_mat, n_edges)\n",
    "    graph_synthetic.append(graph_sampled)\n",
    "    # graph_nx_sampled = nx.from_numpy_array(graph_sampled)\n",
    "    # nx.draw(graph_nx_sampled, node_size=25, alpha=0.5)\n",
    "    # plt.show()"
   ]
  },
  {
   "cell_type": "code",
   "execution_count": 104,
   "metadata": {},
   "outputs": [
    {
     "data": {
      "text/plain": [
       "(15, 15)"
      ]
     },
     "execution_count": 104,
     "metadata": {},
     "output_type": "execute_result"
    }
   ],
   "source": [
    "graph_synthetic[0].shape"
   ]
  },
  {
   "cell_type": "code",
   "execution_count": 105,
   "metadata": {},
   "outputs": [],
   "source": [
    "# np.savez(\"teenager.npz\",Xgen=graph_synthetic, X=X)\n",
    "# np.savez(\"lazega.npz\",Xgen=graph_synthetic, X=X)\n",
    "np.savez(\"florentine.npz\",Xgen=graph_synthetic, X=X)"
   ]
  },
  {
   "cell_type": "markdown",
   "metadata": {},
   "source": [
    "np.savez(model_name+\".npz\",Xgen=graph_synthetic, X=X)"
   ]
  },
  {
   "cell_type": "markdown",
   "metadata": {},
   "source": [
    "np.savez(\"PPI_netgan.npz\",Xgen=graph_synthetic)"
   ]
  },
  {
   "cell_type": "code",
   "execution_count": 9,
   "metadata": {},
   "outputs": [],
   "source": [
    "for i, graph_sampled in enumerate(graph_synthetic):\n",
    "    graph_sampled = scipy.sparse.csc_matrix(graph_sampled)\n",
    "    path = 'graph_'+str(i) + '.npz'\n",
    "    scipy.sparse.save_npz(path, graph_sampled)"
   ]
  },
  {
   "cell_type": "code",
   "execution_count": 61,
   "metadata": {},
   "outputs": [
    {
     "name": "stdout",
     "output_type": "stream",
     "text": [
      "1\n",
      "11\n",
      "21\n",
      "31\n",
      "41\n"
     ]
    },
    {
     "data": {
      "text/plain": [
       "0.5265059471130371"
      ]
     },
     "execution_count": 61,
     "metadata": {},
     "output_type": "execute_result"
    }
   ],
   "source": [
    "#time\n",
    "import time\n",
    "start = time.time()\n",
    "trans_mat = trainer.create_transition_matrix(50000)\n",
    "graph_sampled = graph_from_scores(trans_mat, n_edges)\n",
    "end = time.time()\n",
    "end-start"
   ]
  },
  {
   "cell_type": "code",
   "execution_count": null,
   "metadata": {},
   "outputs": [],
   "source": []
  }
 ],
 "metadata": {
  "kernelspec": {
   "display_name": "Python 3 (ipykernel)",
   "language": "python",
   "name": "python3"
  },
  "language_info": {
   "codemirror_mode": {
    "name": "ipython",
    "version": 3
   },
   "file_extension": ".py",
   "mimetype": "text/x-python",
   "name": "python",
   "nbconvert_exporter": "python",
   "pygments_lexer": "ipython3",
   "version": "3.10.9"
  },
  "vscode": {
   "interpreter": {
    "hash": "fc35f882f298e34b88f53bab113b3dbfb5e6296a3fa7c9e002a3370453bbd9fe"
   }
  }
 },
 "nbformat": 4,
 "nbformat_minor": 4
}
